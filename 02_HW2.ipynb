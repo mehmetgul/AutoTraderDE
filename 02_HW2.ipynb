{
  "cells": [
    {
      "cell_type": "markdown",
      "metadata": {
        "id": "view-in-github",
        "colab_type": "text"
      },
      "source": [
        "<a href=\"https://colab.research.google.com/github/mehmetgul/AutoTraderDE/blob/main/02_HW2.ipynb\" target=\"_parent\"><img src=\"https://colab.research.google.com/assets/colab-badge.svg\" alt=\"Open In Colab\"/></a>"
      ]
    },
    {
      "cell_type": "markdown",
      "id": "db2b89db-2084-4419-a6a5-a25cd01d68a2",
      "metadata": {
        "id": "db2b89db-2084-4419-a6a5-a25cd01d68a2"
      },
      "source": [
        "Q1: In the code , there are some integers and floats declared. Print the following in order:\n",
        "\n",
        "- The sum of the values (addition)\n",
        "- 0 minus the sum of the values\n",
        "- The product of the values (multiplication)\n",
        "- The sum of the values divided by the product of the values\n",
        "Hint: You are free to declare additional variables if it's helpful."
      ]
    },
    {
      "cell_type": "code",
      "execution_count": 1,
      "id": "2f3b37af-feeb-4163-8c9d-e0f6925373e3",
      "metadata": {
        "colab": {
          "base_uri": "https://localhost:8080/"
        },
        "id": "2f3b37af-feeb-4163-8c9d-e0f6925373e3",
        "outputId": "9c9d63b8-74a0-43a0-b0c2-e78d031be1fb"
      },
      "outputs": [
        {
          "output_type": "stream",
          "name": "stdout",
          "text": [
            "4.5\n",
            "-4.5\n",
            "2.0\n",
            "2.25\n"
          ]
        }
      ],
      "source": [
        "a, b, c = 2, 2, 0.5\n",
        "#The sum of the values (addition)\n",
        "sum = a + b + c\n",
        "print(sum)\n",
        "#0 minus the sum of the values\n",
        "print(0 - sum)\n",
        "#The product of the values (multiplication)\n",
        "product = a * b * c\n",
        "print(product)\n",
        "#The sum of the values divided by the product of the values Hint: You are free to declare additional variables if it's helpful.\n",
        "print(sum / product)\n"
      ]
    },
    {
      "cell_type": "markdown",
      "id": "e581f64f-0303-42f2-a5b8-c7c8a0006e4c",
      "metadata": {
        "id": "e581f64f-0303-42f2-a5b8-c7c8a0006e4c"
      },
      "source": [
        "Q2: You are given three variables, a, b, and c. Print the following numbers in order:\n",
        "- The product of a and b, floor divided by c\n",
        "- The remainder of the product of a and b divided by c\n",
        "- The result of raising a to the power of b.\n",
        "- The result of raising b to the power of c."
      ]
    },
    {
      "cell_type": "code",
      "execution_count": 2,
      "id": "0c8da00e-0f25-4027-97b4-b3c388ee3b99",
      "metadata": {
        "colab": {
          "base_uri": "https://localhost:8080/"
        },
        "id": "0c8da00e-0f25-4027-97b4-b3c388ee3b99",
        "outputId": "e0d8bd52-76a1-4257-9007-38926f3eb88b"
      },
      "outputs": [
        {
          "output_type": "stream",
          "name": "stdout",
          "text": [
            "3\n",
            "1\n",
            "256\n",
            "32768\n"
          ]
        }
      ],
      "source": [
        "a, b, c = 2, 8, 5\n",
        "#The product of a and b, floor divided by c\n",
        "print(a * b // c)\n",
        "#The remainder of the product of a and b divided by c\n",
        "print(a * b % c)\n",
        "#The result of raising a to the power of b.\n",
        "print(a ** b)\n",
        "#The result of raising b to the power of c.\n",
        "print(b ** c)"
      ]
    },
    {
      "cell_type": "markdown",
      "id": "ae149ade-153c-49bd-aea2-32694a528d39",
      "metadata": {
        "id": "ae149ade-153c-49bd-aea2-32694a528d39"
      },
      "source": [
        "Q3: In the code  there is a variable called number. Use the shorthand operators to:\n",
        "\n",
        "- Add 5 to number and print the result.\n",
        "- Subtract 2 from number and print the result.\n",
        "- Add number to itself and print the result. (Yes, you can add a variable to itself.)"
      ]
    },
    {
      "cell_type": "code",
      "execution_count": 3,
      "id": "5fc06128-3c01-4ed6-bcff-04864dd31329",
      "metadata": {
        "colab": {
          "base_uri": "https://localhost:8080/"
        },
        "id": "5fc06128-3c01-4ed6-bcff-04864dd31329",
        "outputId": "19d76c20-e884-43c8-a3f8-145d6decce14"
      },
      "outputs": [
        {
          "output_type": "stream",
          "name": "stdout",
          "text": [
            "5\n",
            "3\n",
            "6\n"
          ]
        }
      ],
      "source": [
        "number = 0\n",
        "#Add 5 to number and print the result.\n",
        "number += 5\n",
        "print(number)\n",
        "#Subtract 2 from number and print the result.\n",
        "number -= 2\n",
        "print(number)\n",
        "#Add number to itself and print the result. (Yes, you can add a variable to itself.)\n",
        "number += number\n",
        "print(number)"
      ]
    },
    {
      "cell_type": "markdown",
      "id": "4384e6f0-e492-4def-9c94-a6c242e8dec2",
      "metadata": {
        "id": "4384e6f0-e492-4def-9c94-a6c242e8dec2"
      },
      "source": [
        "Q4: In the code, there are 4 variables, a, b, c, and d. Print the following:\n",
        "- The logic OR of a and b.\n",
        "- The logic OR of b and c.\n",
        "- The logic OR of c and d.\n",
        "- The logic OR of a, b, c, and d."
      ]
    },
    {
      "cell_type": "code",
      "execution_count": 4,
      "id": "8a48b675-5cf6-4a0a-a026-0b6ed1fca06b",
      "metadata": {
        "colab": {
          "base_uri": "https://localhost:8080/"
        },
        "id": "8a48b675-5cf6-4a0a-a026-0b6ed1fca06b",
        "outputId": "d0fc8e4d-8d55-4fb2-93f9-3f167f59fe6b"
      },
      "outputs": [
        {
          "output_type": "stream",
          "name": "stdout",
          "text": [
            "False\n",
            "True\n",
            "True\n",
            "True\n"
          ]
        }
      ],
      "source": [
        "a, b, c, d = False, False, True, True\n",
        "#The logic OR of a and b.\n",
        "print(a or b)\n",
        "#The logic OR of b and c.\n",
        "print(b or c)\n",
        "#The logic OR of c and d.\n",
        "print(c or d)\n",
        "#The logic OR of a, b, c, and d.\n",
        "print(a or b or c or d)"
      ]
    },
    {
      "cell_type": "markdown",
      "id": "815fb72f-1688-4f9d-a7fd-060e2721643a",
      "metadata": {
        "id": "815fb72f-1688-4f9d-a7fd-060e2721643a"
      },
      "source": [
        "Q5: In the code, there are 4 variables, a, b, c, and d. Print the following:\n",
        "- The logical AND of a and b.\n",
        "- The logical AND of b and c.\n",
        "- The logical AND of c and d.\n",
        "- The logical AND of a, b, c, and d.\n"
      ]
    },
    {
      "cell_type": "code",
      "execution_count": 5,
      "id": "fe8ecc83-76b7-4277-af73-82629977dad0",
      "metadata": {
        "colab": {
          "base_uri": "https://localhost:8080/"
        },
        "id": "fe8ecc83-76b7-4277-af73-82629977dad0",
        "outputId": "32558efc-1c13-4f18-840b-7eb006147d0c"
      },
      "outputs": [
        {
          "output_type": "stream",
          "name": "stdout",
          "text": [
            "False\n",
            "False\n",
            "True\n",
            "False\n"
          ]
        }
      ],
      "source": [
        "a, b, c, d = False, False, True, True\n",
        "#The logical AND of a and b.\n",
        "print(a and b)\n",
        "#The logical AND of b and c.\n",
        "print(b and c)\n",
        "#The logical AND of c and d.\n",
        "print(c and d)\n",
        "#The logical AND of a, b, c, and d.\n",
        "print(a and b and c and d)"
      ]
    },
    {
      "cell_type": "markdown",
      "id": "fdee7bc0-a43e-4fcf-9285-313706dda67b",
      "metadata": {
        "id": "fdee7bc0-a43e-4fcf-9285-313706dda67b"
      },
      "source": [
        "Q6: In the code, there are 3 variables, a, b, and c. Print the following:\n",
        "\n",
        "- The negation of a.\n",
        "- The negation of c.\n",
        "- The negation of the logical AND of a and b.\n",
        "- The negation of the logical OR of b and c."
      ]
    },
    {
      "cell_type": "code",
      "execution_count": 7,
      "id": "750ffa08-f8ad-4385-9b21-7a0eeb5e395b",
      "metadata": {
        "colab": {
          "base_uri": "https://localhost:8080/"
        },
        "id": "750ffa08-f8ad-4385-9b21-7a0eeb5e395b",
        "outputId": "5e044e5a-809d-4289-d39d-1dbf78a736fb"
      },
      "outputs": [
        {
          "output_type": "stream",
          "name": "stdout",
          "text": [
            "True\n",
            "False\n",
            "True\n",
            "False\n"
          ]
        }
      ],
      "source": [
        "a, b, c = False, False, True\n",
        "#The negation of a.\n",
        "print(not a)\n",
        "#The negation of c.\n",
        "print(not c)\n",
        "#The negation of the logical AND of a and b.\n",
        "print(not (a and b))\n",
        "#The negation of the logical OR of b and c.\n",
        "print(not (b or c))"
      ]
    }
  ],
  "metadata": {
    "kernelspec": {
      "display_name": "Python 3 (ipykernel)",
      "language": "python",
      "name": "python3"
    },
    "language_info": {
      "codemirror_mode": {
        "name": "ipython",
        "version": 3
      },
      "file_extension": ".py",
      "mimetype": "text/x-python",
      "name": "python",
      "nbconvert_exporter": "python",
      "pygments_lexer": "ipython3",
      "version": "3.11.4"
    },
    "colab": {
      "provenance": [],
      "include_colab_link": true
    }
  },
  "nbformat": 4,
  "nbformat_minor": 5
}